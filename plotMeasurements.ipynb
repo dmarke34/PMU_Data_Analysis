{
 "cells": [
  {
   "cell_type": "code",
   "execution_count": 309,
   "metadata": {},
   "outputs": [],
   "source": [
    "import pandas as pd\n",
    "import matplotlib.pyplot as plt\n",
    "import csv\n",
    "import numpy as np"
   ]
  },
  {
   "cell_type": "code",
   "execution_count": 310,
   "metadata": {},
   "outputs": [
    {
     "name": "stdout",
     "output_type": "stream",
     "text": [
      "1001.0\n",
      "1004.0\n",
      "1005.0\n",
      "1006.0\n",
      "1009.0\n",
      "1012.0\n",
      "1015.0\n",
      "1018.0\n",
      "1021.0\n",
      "1024.0\n",
      "1027.0\n",
      "1030.0\n",
      "1033.0\n",
      "1036.0\n",
      "1039.0\n",
      "1042.0\n",
      "1043.0\n",
      "1044.0\n",
      "1047.0\n",
      "1050.0\n",
      "1053.0\n",
      "1056.0\n",
      "1059.0\n",
      "1062.0\n",
      "1065.0\n",
      "1068.0\n",
      "1071.0\n",
      "1074.0\n",
      "1077.0\n",
      "1080.0\n",
      "1083.0\n",
      "1086.0\n",
      "1089.0\n",
      "1090.0\n",
      "1091.0\n",
      "1094.0\n",
      "1097.0\n"
     ]
    }
   ],
   "source": [
    "from numpy import dtype, float64\n",
    "\n",
    "\n",
    "with open(\"pmuData.csv\", 'r') as i:\n",
    "    rawdata = list(csv.reader(i, delimiter= ','))\n",
    "\n",
    "exampledata = np.array(rawdata[1:],dtype=str)\n",
    "xdata = exampledata[:,0]\n",
    "ydata = exampledata[:,2]\n",
    "ydata[ydata=='']='0'\n",
    "\n",
    "xfloat = xdata.astype(int)\n",
    "yfloat = ydata.astype(float)\n",
    "\n",
    "\n",
    "combined = np.vstack((xfloat, yfloat)).T\n",
    "\n",
    "counter = 0\n",
    "for x in combined:\n",
    "    if combined[counter][1] == 0.0:\n",
    "        print(combined[counter][0])\n",
    "    counter += 1"
   ]
  },
  {
   "cell_type": "code",
   "execution_count": 311,
   "metadata": {},
   "outputs": [],
   "source": [
    "plt.scatter(xfloat, yfloat)"
   ]
  }
 ],
 "metadata": {
  "kernelspec": {
   "display_name": "Python 3.10.5 64-bit",
   "language": "python",
   "name": "python3"
  },
  "language_info": {
   "codemirror_mode": {
    "name": "ipython",
    "version": 3
   },
   "file_extension": ".py",
   "mimetype": "text/x-python",
   "name": "python",
   "nbconvert_exporter": "python",
   "pygments_lexer": "ipython3",
   "version": "3.10.5"
  },
  "orig_nbformat": 4,
  "vscode": {
   "interpreter": {
    "hash": "5e2f3c24a44a7af9e310f720e2e670bf5d50d668debae036c5c6ed7f93b52384"
   }
  }
 },
 "nbformat": 4,
 "nbformat_minor": 2
}
