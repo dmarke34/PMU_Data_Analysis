{
 "cells": [
  {
   "cell_type": "code",
   "execution_count": 109,
   "metadata": {},
   "outputs": [],
   "source": [
    "import pandas as pd\n",
    "import matplotlib.pyplot as plt\n",
    "import csv\n",
    "import numpy as np"
   ]
  },
  {
   "cell_type": "code",
   "execution_count": 110,
   "metadata": {},
   "outputs": [],
   "source": [
    "with open(\"pmuData.csv\", 'r') as i:\n",
    "    rawdata = list(csv.reader(i, delimiter= ','))\n",
    "\n",
    "exampledata = np.array(rawdata[1:],dtype=str)\n",
    "xdata = exampledata[:,0]\n",
    "ydata = exampledata[:,2]\n",
    "ydata[ydata=='']='0'\n",
    "\n",
    "xfloat = xdata.astype(int)\n",
    "yfloat = ydata.astype(float)\n",
    "\n",
    "# print(xfloat)\n",
    "# print(yfloat)\n"
   ]
  },
  {
   "cell_type": "code",
   "execution_count": 111,
   "metadata": {},
   "outputs": [
    {
     "data": {
      "text/plain": [
       "<matplotlib.collections.PathCollection at 0x29d38654610>"
      ]
     },
     "execution_count": 111,
     "metadata": {},
     "output_type": "execute_result"
    },
    {
     "data": {
      "image/png": "[encoded data removed]",
      "text/plain": [
       "<Figure size 432x288 with 1 Axes>"
      ]
     },
     "metadata": {
      "needs_background": "light"
     },
     "output_type": "display_data"
    }
   ],
   "source": [
    "plt.scatter(xfloat,yfloat)"
   ]
  },
  {
   "cell_type": "code",
   "execution_count": 112,
   "metadata": {},
   "outputs": [
    {
     "name": "stdout",
     "output_type": "stream",
     "text": [
      "Min Voltage:  0.0\n",
      "Max Voltage 52656.03\n"
     ]
    }
   ],
   "source": [
    "print(\"Min Voltage: \" , yfloat.min())\n",
    "print(\"Max Voltage\", yfloat.max())"
   ]
  }
 ],
 "metadata": {
  "kernelspec": {
   "display_name": "Python 3.10.5 64-bit",
   "language": "python",
   "name": "python3"
  },
  "language_info": {
   "codemirror_mode": {
    "name": "ipython",
    "version": 3
   },
   "file_extension": ".py",
   "mimetype": "text/x-python",
   "name": "python",
   "nbconvert_exporter": "python",
   "pygments_lexer": "ipython3",
   "version": "3.10.5"
  },
  "orig_nbformat": 4,
  "vscode": {
   "interpreter": {
    "hash": "5e2f3c24a44a7af9e310f720e2e670bf5d50d668debae036c5c6ed7f93b52384"
   }
  }
 },
 "nbformat": 4,
 "nbformat_minor": 2
}
