{
 "cells": [
  {
   "cell_type": "code",
   "execution_count": 71,
   "metadata": {},
   "outputs": [],
   "source": [
    "import pandas as pd\n",
    "import matplotlib.pyplot as plt\n",
    "import csv\n",
    "import numpy as np"
   ]
  },
  {
   "cell_type": "code",
   "execution_count": 72,
   "metadata": {},
   "outputs": [
    {
     "ename": "ValueError",
     "evalue": "could not convert string to float: ''",
     "output_type": "error",
     "traceback": [
      "\u001b[1;31m---------------------------------------------------------------------------\u001b[0m",
      "\u001b[1;31mValueError\u001b[0m                                Traceback (most recent call last)",
      "\u001b[1;32mc:\\Users\\gabea\\hello\\plotMeasurements.ipynb Cell 2\u001b[0m in \u001b[0;36m<cell line: 9>\u001b[1;34m()\u001b[0m\n\u001b[0;32m      <a href='vscode-notebook-cell:/c%3A/Users/gabea/hello/plotMeasurements.ipynb#ch0000001?line=5'>6</a>\u001b[0m ydata \u001b[39m=\u001b[39m exampledata[:,\u001b[39m2\u001b[39m]\n\u001b[0;32m      <a href='vscode-notebook-cell:/c%3A/Users/gabea/hello/plotMeasurements.ipynb#ch0000001?line=7'>8</a>\u001b[0m xfloat \u001b[39m=\u001b[39m xdata\u001b[39m.\u001b[39mastype(\u001b[39mfloat\u001b[39m)\n\u001b[1;32m----> <a href='vscode-notebook-cell:/c%3A/Users/gabea/hello/plotMeasurements.ipynb#ch0000001?line=8'>9</a>\u001b[0m yfloat \u001b[39m=\u001b[39m ydata\u001b[39m.\u001b[39;49mastype(\u001b[39mfloat\u001b[39;49m)\n\u001b[0;32m     <a href='vscode-notebook-cell:/c%3A/Users/gabea/hello/plotMeasurements.ipynb#ch0000001?line=10'>11</a>\u001b[0m \u001b[39mprint\u001b[39m(yfloat)\n\u001b[0;32m     <a href='vscode-notebook-cell:/c%3A/Users/gabea/hello/plotMeasurements.ipynb#ch0000001?line=11'>12</a>\u001b[0m \u001b[39mprint\u001b[39m(xfloat)\n",
      "\u001b[1;31mValueError\u001b[0m: could not convert string to float: ''"
     ]
    }
   ],
   "source": [
    "with open(\"pmuData.csv\", 'r') as i:\n",
    "    rawdata = list(csv.reader(i, delimiter= ','))\n",
    "\n",
    "exampledata = np.array(rawdata[1:],dtype=str)\n",
    "xdata = exampledata[:,0]\n",
    "ydata = exampledata[:,2]\n",
    "\n",
    "xfloat = xdata.astype(float)\n",
    "\n",
    "#find a way to convert the empty strings\n",
    "yfloat = ydata.astype(float)\n",
    "\n",
    "print(yfloat)\n",
    "print(xfloat)\n"
   ]
  }
 ],
 "metadata": {
  "kernelspec": {
   "display_name": "Python 3.10.5 64-bit",
   "language": "python",
   "name": "python3"
  },
  "language_info": {
   "codemirror_mode": {
    "name": "ipython",
    "version": 3
   },
   "file_extension": ".py",
   "mimetype": "text/x-python",
   "name": "python",
   "nbconvert_exporter": "python",
   "pygments_lexer": "ipython3",
   "version": "3.10.5"
  },
  "orig_nbformat": 4,
  "vscode": {
   "interpreter": {
    "hash": "5e2f3c24a44a7af9e310f720e2e670bf5d50d668debae036c5c6ed7f93b52384"
   }
  }
 },
 "nbformat": 4,
 "nbformat_minor": 2
}
