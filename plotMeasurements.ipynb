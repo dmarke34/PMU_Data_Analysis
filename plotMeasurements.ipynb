{
 "cells": [
  {
   "cell_type": "code",
   "execution_count": 542,
   "metadata": {},
   "outputs": [],
   "source": [
    "import pandas as pd\n",
    "import matplotlib.pyplot as plt\n",
    "import csv\n",
    "import numpy as np"
   ]
  },
  {
   "cell_type": "code",
   "execution_count": 543,
   "metadata": {},
   "outputs": [
    {
     "name": "stdout",
     "output_type": "stream",
     "text": [
      "[[  1002.   191609.99]\n",
      " [  1003.   197003.83]\n",
      " [  1007.   195389.94]\n",
      " [  1008.   196603.33]\n",
      " [  1010.   193750.7 ]\n",
      " [  1011.   192819.99]\n",
      " [  1013.   196915.  ]\n",
      " [  1014.   195499.15]\n",
      " [  1016.   196353.76]\n",
      " [  1017.   192416.5 ]\n",
      " [  1019.   195585.71]\n",
      " [  1020.   196705.97]\n",
      " [  1022.   195632.06]\n",
      " [  1023.   196169.01]\n",
      " [  1025.   191459.51]\n",
      " [  1026.   197479.13]\n",
      " [  1028.   196568.87]\n",
      " [  1029.   195785.29]\n",
      " [  1031.   195772.38]\n",
      " [  1032.   189975.54]\n",
      " [  1034.   198831.16]\n",
      " [  1035.   196395.74]\n",
      " [  1037.   195929.82]\n",
      " [  1038.   195033.09]\n",
      " [  1040.   189720.17]\n",
      " [  1041.   198263.28]\n",
      " [  1045.   196403.72]\n",
      " [  1046.   196023.54]\n",
      " [  1048.   194300.22]\n",
      " [  1049.   190074.28]\n",
      " [  1051.   197700.  ]\n",
      " [  1052.   196368.12]\n",
      " [  1054.   196141.41]\n",
      " [  1055.   193177.79]\n",
      " [  1057.   191330.74]\n",
      " [  1058.   197266.28]\n",
      " [  1060.   196356.33]\n",
      " [  1061.   196210.91]\n",
      " [  1063.   193078.43]\n",
      " [  1064.   191626.37]\n",
      " [  1066.   197233.06]\n",
      " [  1067.   196358.77]\n",
      " [  1069.   196278.42]\n",
      " [  1070.   193397.16]\n",
      " [  1072.   191549.1 ]\n",
      " [  1073.   197370.67]\n",
      " [  1075.   196365.31]\n",
      " [  1076.   196311.97]\n",
      " [  1078.   193309.08]\n",
      " [  1079.   191841.8 ]\n",
      " [  1081.   197345.26]\n",
      " [  1082.   196364.76]\n",
      " [  1084.   196324.67]\n",
      " [  1085.   193576.05]\n",
      " [  1087.   191612.49]\n",
      " [  1088.   197449.96]\n",
      " [  1092.   196360.55]\n",
      " [  1093.   196336.44]\n",
      " [  1095.   193711.57]\n",
      " [  1096.   191551.34]\n",
      " [  1098.   197335.04]\n",
      " [  1099.   196400.65]]\n"
     ]
    }
   ],
   "source": [
    "from numpy import dtype, float64\n",
    "\n",
    "\n",
    "with open(\"pmuData.csv\", 'r') as i:\n",
    "    rawdata = list(csv.reader(i, delimiter= ','))\n",
    "\n",
    "exampledata = np.array(rawdata[1:],dtype=str)\n",
    "xdata = exampledata[:,0]\n",
    "ydata = exampledata[:,2]\n",
    "ydata[ydata=='']=0.0\n",
    "\n",
    "xfloat = xdata.astype(int)\n",
    "yfloat = ydata.astype(float)\n",
    "\n",
    "\n",
    "combined = np.vstack((xfloat, yfloat)).T\n",
    "counter = 0\n",
    "for x in combined:\n",
    "    if combined[counter][1] == 0.0:\n",
    "        combined = np.delete(combined, counter, 0)\n",
    "        counter -= 1\n",
    "    counter += 1\n",
    "\n",
    "print(combined)"
   ]
  },
  {
   "cell_type": "code",
   "execution_count": 544,
   "metadata": {},
   "outputs": [
    {
     "data": {
      "text/plain": [
       "<matplotlib.collections.PathCollection at 0x29d3f350dc0>"
      ]
     },
     "execution_count": 544,
     "metadata": {},
     "output_type": "execute_result"
    },
    {
     "data": {
      "image/png": "[encoded data removed]",
      "text/plain": [
       "<Figure size 432x288 with 1 Axes>"
      ]
     },
     "metadata": {
      "needs_background": "light"
     },
     "output_type": "display_data"
    }
   ],
   "source": [
    "plt.scatter(xfloat, yfloat)"
   ]
  }
 ],
 "metadata": {
  "kernelspec": {
   "display_name": "Python 3.10.5 64-bit",
   "language": "python",
   "name": "python3"
  },
  "language_info": {
   "codemirror_mode": {
    "name": "ipython",
    "version": 3
   },
   "file_extension": ".py",
   "mimetype": "text/x-python",
   "name": "python",
   "nbconvert_exporter": "python",
   "pygments_lexer": "ipython3",
   "version": "3.10.5"
  },
  "orig_nbformat": 4,
  "vscode": {
   "interpreter": {
    "hash": "5e2f3c24a44a7af9e310f720e2e670bf5d50d668debae036c5c6ed7f93b52384"
   }
  }
 },
 "nbformat": 4,
 "nbformat_minor": 2
}
