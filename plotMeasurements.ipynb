{
 "cells": [
  {
   "cell_type": "code",
   "execution_count": 1,
   "metadata": {},
   "outputs": [],
   "source": [
    "import pandas as pd\n",
    "import matplotlib.pyplot as plt\n",
    "import csv\n",
    "import numpy as np"
   ]
  },
  {
   "cell_type": "code",
   "execution_count": 2,
   "metadata": {},
   "outputs": [
    {
     "name": "stdout",
     "output_type": "stream",
     "text": [
      "[[  1002.   191609.99]\n",
      " [  1003.   197003.83]\n",
      " [  1007.   195389.94]\n",
      " [  1008.   196603.33]\n",
      " [  1010.   193750.7 ]\n",
      " [  1011.   192819.99]\n",
      " [  1013.   196915.  ]\n",
      " [  1014.   195499.15]\n",
      " [  1016.   196353.76]\n",
      " [  1017.   192416.5 ]\n",
      " [  1019.   195585.71]\n",
      " [  1020.   196705.97]\n",
      " [  1022.   195632.06]\n",
      " [  1023.   196169.01]\n",
      " [  1025.   191459.51]\n",
      " [  1026.   197479.13]\n",
      " [  1028.   196568.87]\n",
      " [  1029.   195785.29]\n",
      " [  1031.   195772.38]\n",
      " [  1032.   189975.54]\n",
      " [  1034.   198831.16]\n",
      " [  1035.   196395.74]\n",
      " [  1037.   195929.82]\n",
      " [  1038.   195033.09]\n",
      " [  1040.   189720.17]\n",
      " [  1041.   198263.28]\n",
      " [  1045.   196403.72]\n",
      " [  1046.   196023.54]\n",
      " [  1048.   194300.22]\n",
      " [  1049.   190074.28]\n",
      " [  1051.   197700.  ]\n",
      " [  1052.   196368.12]\n",
      " [  1054.   196141.41]\n",
      " [  1055.   193177.79]\n",
      " [  1057.   191330.74]\n",
      " [  1058.   197266.28]\n",
      " [  1060.   196356.33]\n",
      " [  1061.   196210.91]\n",
      " [  1063.   193078.43]\n",
      " [  1064.   191626.37]\n",
      " [  1066.   197233.06]\n",
      " [  1067.   196358.77]\n",
      " [  1069.   196278.42]\n",
      " [  1070.   193397.16]\n",
      " [  1072.   191549.1 ]\n",
      " [  1073.   197370.67]\n",
      " [  1075.   196365.31]\n",
      " [  1076.   196311.97]\n",
      " [  1078.   193309.08]\n",
      " [  1079.   191841.8 ]\n",
      " [  1081.   197345.26]\n",
      " [  1082.   196364.76]\n",
      " [  1084.   196324.67]\n",
      " [  1085.   193576.05]\n",
      " [  1087.   191612.49]\n",
      " [  1088.   197449.96]\n",
      " [  1092.   196360.55]\n",
      " [  1093.   196336.44]\n",
      " [  1095.   193711.57]\n",
      " [  1096.   191551.34]\n",
      " [  1098.   197335.04]\n",
      " [  1099.   196400.65]]\n"
     ]
    }
   ],
   "source": [
    "from numpy import dtype, float64\n",
    "\n",
    "\n",
    "with open(\"pmuData.csv\", 'r') as i:\n",
    "    rawdata = list(csv.reader(i, delimiter= ','))\n",
    "\n",
    "exampledata = np.array(rawdata[1:],dtype=str)\n",
    "xdata = exampledata[:,0]\n",
    "ydata = exampledata[:,2]\n",
    "\n",
    "ydata[ydata=='']=0.0\n",
    "\n",
    "xfloat = xdata.astype(int)\n",
    "yfloat = ydata.astype(float)\n",
    "\n",
    "combined = np.vstack((xfloat, yfloat)).T\n",
    "counter = 0\n",
    "for x in combined:\n",
    "    if combined[counter][1] == 0.0:\n",
    "        combined = np.delete(combined, counter, 0)\n",
    "        counter -= 1\n",
    "    counter += 1\n",
    "\n",
    "print(combined)"
   ]
  },
  {
   "cell_type": "code",
   "execution_count": 3,
   "metadata": {},
   "outputs": [
    {
     "name": "stdout",
     "output_type": "stream",
     "text": [
      "(1002.0, 1003.0, 1007.0, 1008.0, 1010.0, 1011.0, 1013.0, 1014.0, 1016.0, 1017.0, 1019.0, 1020.0, 1022.0, 1023.0, 1025.0, 1026.0, 1028.0, 1029.0, 1031.0, 1032.0, 1034.0, 1035.0, 1037.0, 1038.0, 1040.0, 1041.0, 1045.0, 1046.0, 1048.0, 1049.0, 1051.0, 1052.0, 1054.0, 1055.0, 1057.0, 1058.0, 1060.0, 1061.0, 1063.0, 1064.0, 1066.0, 1067.0, 1069.0, 1070.0, 1072.0, 1073.0, 1075.0, 1076.0, 1078.0, 1079.0, 1081.0, 1082.0, 1084.0, 1085.0, 1087.0, 1088.0, 1092.0, 1093.0, 1095.0, 1096.0, 1098.0, 1099.0)\n",
      "(191609.99, 197003.83, 195389.94, 196603.33, 193750.7, 192819.99, 196915.0, 195499.15, 196353.76, 192416.5, 195585.71, 196705.97, 195632.06, 196169.01, 191459.51, 197479.13, 196568.87, 195785.29, 195772.38, 189975.54, 198831.16, 196395.74, 195929.82, 195033.09, 189720.17, 198263.28, 196403.72, 196023.54, 194300.22, 190074.28, 197700.0, 196368.12, 196141.41, 193177.79, 191330.74, 197266.28, 196356.33, 196210.91, 193078.43, 191626.37, 197233.06, 196358.77, 196278.42, 193397.16, 191549.1, 197370.67, 196365.31, 196311.97, 193309.08, 191841.8, 197345.26, 196364.76, 196324.67, 193576.05, 191612.49, 197449.96, 196360.55, 196336.44, 193711.57, 191551.34, 197335.04, 196400.65)\n"
     ]
    }
   ],
   "source": [
    "a, b = zip(*combined)\n",
    "print(a)\n",
    "print(b)"
   ]
  },
  {
   "cell_type": "code",
   "execution_count": 4,
   "metadata": {},
   "outputs": [
    {
     "data": {
      "text/plain": [
       "<matplotlib.collections.PathCollection at 0x1e73f8daad0>"
      ]
     },
     "execution_count": 4,
     "metadata": {},
     "output_type": "execute_result"
    },
    {
     "data": {
      "image/png": "[encoded data removed]",
      "text/plain": [
       "<Figure size 432x288 with 1 Axes>"
      ]
     },
     "metadata": {
      "needs_background": "light"
     },
     "output_type": "display_data"
    }
   ],
   "source": [
    "plt.scatter(a, b)"
   ]
  }
 ],
 "metadata": {
  "kernelspec": {
   "display_name": "Python 3.10.5 64-bit",
   "language": "python",
   "name": "python3"
  },
  "language_info": {
   "codemirror_mode": {
    "name": "ipython",
    "version": 3
   },
   "file_extension": ".py",
   "mimetype": "text/x-python",
   "name": "python",
   "nbconvert_exporter": "python",
   "pygments_lexer": "ipython3",
   "version": "3.10.5"
  },
  "orig_nbformat": 4,
  "vscode": {
   "interpreter": {
    "hash": "5e2f3c24a44a7af9e310f720e2e670bf5d50d668debae036c5c6ed7f93b52384"
   }
  }
 },
 "nbformat": 4,
 "nbformat_minor": 2
}
